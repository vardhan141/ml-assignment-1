{
 "cells": [
  {
   "cell_type": "code",
   "execution_count": 1,
   "id": "45315d60",
   "metadata": {
    "scrolled": true
   },
   "outputs": [
    {
     "name": "stdout",
     "output_type": "stream",
     "text": [
      "The sorted list is given by  [19, 19, 20, 22, 24, 24, 24, 25, 25, 26]\n",
      "The minimum age and is given by  19\n",
      "The maximum age and is given by  26\n",
      "the median is given by  24\n",
      "The average age is given by  22\n",
      "The range of the ages  7\n"
     ]
    }
   ],
   "source": [
    "#Question 1\n",
    "\n",
    "# list containing age groups\n",
    "\n",
    "ages = [19, 22, 19, 24, 20, 25, 26, 24, 25, 24]\n",
    "ages.sort()       # sort method sorts the given list in ascending order \n",
    "print(\"The sorted list is given by \",ages)     # printing the sorted ages\n",
    "min=ages[0]     # since list is sorted the first value is least\n",
    "max=ages[-1]      # since list is sorted the last value is highest\n",
    "print(\"The minimum age and is given by \",min) \n",
    "print(\"The maximum age and is given by \",max)\n",
    "ages.append(min)    # adding minimum age using append method   \n",
    "ages.append(max)    #adding maximum age using append method\n",
    "ages.sort()\n",
    "median=((ages[len(ages)//2]+ages[len(ages)//2+1])//2)  # formula to find median since there are two middle values\n",
    "print(\"the median is given by \",median)\n",
    "sum1=0\n",
    "for i in ages:\n",
    "    sum1+=i\n",
    "avg=sum1//len(ages)    \n",
    "print(\"The average age is given by \",avg) # the average of the list=sum(ages)/len(ages)\n",
    "range1=max-min   # range=maximum-minimum\n",
    "print(\"The range of the ages \",range1)"
   ]
  },
  {
   "cell_type": "code",
   "execution_count": 6,
   "id": "9d083e08",
   "metadata": {},
   "outputs": [
    {
     "name": "stdout",
     "output_type": "stream",
     "text": [
      "{'name': 'ron', 'color': 'brown', 'breed': 'pitbull', 'legs': 4, 'age': 5}\n",
      "{'first_name': 'sai vardhan reddy', 'last_name': 'konyala', 'gender': 'Male', 'age': '21', 'marital_status': 'single', 'skills': ['Machine learning', 'deep learning', 'Artificial intelligence'], 'country': 'india', 'city': 'hyderabad', 'address': 'yamjal'}\n",
      "\n",
      " the length of students is given by  9\n",
      "\n",
      " the value of skills in student dictionary  ['Machine learning', 'deep learning', 'Artificial intelligence']  the type is given by  <class 'list'>\n",
      "the updated skills are given by  ['Machine learning', 'deep learning', 'Artificial intelligence', 'c language', 'c++ language']\n",
      "dictionary keys as a list  dict_keys(['first_name', 'last_name', 'gender', 'age', 'marital_status', 'skills', 'country', 'city', 'address'])\n",
      "dictionary values as a list  dict_values(['sai vardhan reddy', 'konyala', 'Male', '21', 'single', ['Machine learning', 'deep learning', 'Artificial intelligence', 'c language', 'c++ language'], 'india', 'hyderabad', 'yamjal'])\n"
     ]
    }
   ],
   "source": [
    "# Question 2\n",
    "\n",
    "dog=dict() # dict() method is  for creating empty dictionary\n",
    "dog['name']=\"ron\"  # here we can assign key and value using dictionary[key]=value\n",
    "dog['color']='brown'\n",
    "dog['breed']='pitbull'\n",
    "dog['legs']=4\n",
    "dog['age']=5\n",
    "print(dog) # dog dictionary with features added\n",
    "# student dictionary\n",
    "student={\"first_name\":\"sai vardhan reddy\", \"last_name\":'konyala', \"gender\":'Male', \"age\":'21', \"marital_status\":\"single\",\n",
    "\"skills\":['Machine learning','deep learning','Artificial intelligence'],\"country\":'india', \"city\":'hyderabad',\n",
    "         \"address\":'yamjal'}\n",
    "print(student) # student with features added\n",
    "length=len(student) # len returns length of the dictionary\n",
    "print()\n",
    "print(\" the length of students is given by \",length)\n",
    "print()\n",
    "# type is used to find out the type of the variable\n",
    "print(\" the value of skills in student dictionary \",student[\"skills\"],' the type is given by ',type(student['skills'])) \n",
    "student['skills'].append('c language');student['skills'].append('c++ language') # append is used to add element to the list\n",
    "print(\"the updated skills are given by \",student['skills'])\n",
    "keyslist=student.keys();  # keys method is used to get list of keys\n",
    "print(\"dictionary keys as a list \",keyslist) \n",
    "valuelist=student.values() # values method is used to get list of values\n",
    "print(\"dictionary values as a list \",valuelist)\n"
   ]
  },
  {
   "cell_type": "code",
   "execution_count": 3,
   "id": "76477a46",
   "metadata": {},
   "outputs": [
    {
     "name": "stdout",
     "output_type": "stream",
     "text": [
      "The number of siblings are given by 8\n",
      "after adding parents ('krishna', 'sai', 'kiran', 'madan', 'mounika', 'manasa', 'shivani', 'deepika', 'sujatha', 'chandrakanth')\n"
     ]
    }
   ],
   "source": [
    "#question 3\n",
    "brothers=('krishna','sai','kiran','madan') # set containing names of brothers\n",
    "sisters=('mounika','manasa','shivani','deepika') # set containing names of sisters\n",
    "siblings=brothers+sisters # + is used to join tuples\n",
    "print(\"The number of siblings are given by\",len(siblings))\n",
    "# modifying tuple since tuple is unchangeable first convert to list then update then change to tuple\n",
    "siblings=list(siblings) # list functions converts tuple to list\n",
    "siblings.append('sujatha')  #adding mother\n",
    "siblings.append('chandrakanth') #adding father\n",
    "siblings=tuple(siblings) # again convert list to tuple\n",
    "familymembers=siblings\n",
    "print(\"after adding parents\",familymembers) \n"
   ]
  },
  {
   "cell_type": "code",
   "execution_count": 4,
   "id": "759bc2df",
   "metadata": {},
   "outputs": [
    {
     "name": "stdout",
     "output_type": "stream",
     "text": [
      "the length of it_companies  7\n",
      "updated set {'Apple', 'Google', 'Amazon', 'Facebook', 'Microsoft', 'Oracle', 'Twitter', 'Phillips', 'Ebay', 'Tesla', 'IBM'}\n",
      "updated list after removing facebook  {'Apple', 'Google', 'Amazon', 'Microsoft', 'Oracle', 'Twitter', 'Phillips', 'Ebay', 'Tesla', 'IBM'}\n",
      "if the item to remove does not exist remove() will raise an error and  If the item to remove does not exist, discard() will NOT raise an error\n",
      "the union of A and B is given by  {19, 20, 22, 24, 25, 26, 27, 28}\n",
      "the intersection of A and B is given by  {19, 20, 22, 24, 25, 26}\n",
      "is A subset of B  True\n",
      "are A and B disjoint sets False\n",
      "A join with B  {19, 20, 22, 24, 25, 26, 27, 28}\n",
      "B join with A {19, 20, 22, 24, 25, 26, 27, 28}\n",
      " symmetric difference between A and B is given by  {27, 28}\n",
      "printing A and B after clear  set() set()\n",
      "length of list age 8\n",
      "length of set age  5\n"
     ]
    }
   ],
   "source": [
    "# question 4\n",
    "it_companies = {'Facebook', 'Google', 'Microsoft', 'Apple', 'IBM', 'Oracle', 'Amazon'}\n",
    "A = {19, 22, 24, 20, 25, 26}\n",
    "B = {19, 22, 20, 25, 26, 24, 28, 27}\n",
    "age = [22, 19, 24, 25, 26, 24, 25, 24]\n",
    "print(\"the length of it_companies \",len(it_companies)) #len is used to print length\n",
    "it_companies.add('Twitter') # add function is used to add values to set\n",
    "newcompanies={'Tesla','Phillips','Ebay'}\n",
    "it_companies.update(newcompanies) # update is used to add multiple elements to the set\n",
    "print('updated set',it_companies)\n",
    "it_companies.remove('Facebook') # remove function is used to remove value from set\n",
    "print('updated list after removing facebook ',it_companies)\n",
    "print(\"difference between remove and discard\")\n",
    "print(\"if the item to remove does not exist remove() will raise an error\") \n",
    "print(\"If the item to remove does not exist, discard() will NOT raise an error\")\n",
    "C=A.union(B) # union function is used for union of two sets\n",
    "print(\"the union of A and B is given by \",C)\n",
    "D=A.intersection(B)  # intersection function is used for intersection of two sets\n",
    "print(\"the intersection of A and B is given by \",D)\n",
    "issub=A.issubset(B)   # issubset is used to check if one set is subset of others\n",
    "print(\"is A subset of B \",issub) \n",
    "isdis=A.isdisjoint(B)  # isdisjoint is used to check if both sets are disjoint or not\n",
    "print(\"are A and B disjoint sets\",isdis)\n",
    "ajoinb=A.union(B) # union is used for join of two sets\n",
    "bjoina=B.union(A)\n",
    "print(\"A join with B \",ajoinb)\n",
    "print(\"B join with A\",bjoina)\n",
    "sym_diff=A.symmetric_difference(B) # symmetric difference is used to find the symmetric difference between two sets\n",
    "print(\" symmetric difference between A and B is given by \",sym_diff)\n",
    "A.clear();B.clear() # clear is used to remove all the elements in set\n",
    "print(\"printing A and B after clear \",A,B)\n",
    "print(\"length of list age\",len(age))\n",
    "setage=set(age)\n",
    "print(\"length of set age \",len(setage)) # the length of set is small because it removes duplicates"
   ]
  },
  {
   "cell_type": "code",
   "execution_count": 1,
   "id": "80576783",
   "metadata": {},
   "outputs": [
    {
     "name": "stdout",
     "output_type": "stream",
     "text": [
      "the area of circle is given by  2826.0\n",
      "the circumference of circle is given by  188.4\n",
      "Enter the Radius of the circle 12\n",
      "the area of circle is given by  2826.0\n"
     ]
    }
   ],
   "source": [
    "#question 5\n",
    "radius=30\n",
    "_area_of_circle_=3.14*radius*radius # area of circle formula =3.14*r*r\n",
    "print(\"the area of circle is given by \",_area_of_circle_)\n",
    "_circum_of_circle_=2*3.14*radius\n",
    "print(\"the circumference of circle is given by \",_circum_of_circle_)\n",
    "radius=int(input(\"Enter the Radius of the circle \"))\n",
    "_area_of_circle=3.14*radius*radius\n",
    "print(\"the area of circle is given by \",_area_of_circle_)\n"
   ]
  },
  {
   "cell_type": "code",
   "execution_count": 4,
   "id": "a6089a6d",
   "metadata": {},
   "outputs": [
    {
     "name": "stdout",
     "output_type": "stream",
     "text": [
      "the list of unique words  ['to', 'teach', 'am', 'a', 'love', 'teacher', 'people', 'inspire', 'and', 'I']\n",
      " the length of list is given by 10\n"
     ]
    }
   ],
   "source": [
    "# Question 6\n",
    "l=\"I am a teacher and I love to inspire and teach people\"\n",
    "a=l.split() # split method is used to split string and store in form of list \n",
    "a=list(set(a)) # using set method to convert list to set and again converting to list since set removes duplicates\n",
    "print(\"the list of unique words \",a)\n",
    "print(\" the length of list is given by\",len(a))"
   ]
  },
  {
   "cell_type": "code",
   "execution_count": 7,
   "id": "00df78bd",
   "metadata": {},
   "outputs": [
    {
     "name": "stdout",
     "output_type": "stream",
     "text": [
      "Name\tAge\tCountry\tCity\n",
      "Asabeneh\t250\tFinland\tHelsinki\n"
     ]
    }
   ],
   "source": [
    "# question 7\n",
    "print(\"Name\",\"Age\",\"Country\",\"City\",sep='\\t')\n",
    "print(\"Asabeneh\",\"250\",\"Finland\",\"Helsinki\",sep='\\t')"
   ]
  },
  {
   "cell_type": "code",
   "execution_count": 8,
   "id": "cbf658a5",
   "metadata": {},
   "outputs": [
    {
     "name": "stdout",
     "output_type": "stream",
     "text": [
      "The area of a circle with radius 10 is 314.0 meters square.\n"
     ]
    }
   ],
   "source": [
    "# question 8\n",
    "radius = 10\n",
    "area = 3.14 * radius ** 2\n",
    "print(\"The area of a circle with radius {0} is {1} meters square.\".format(radius,area))"
   ]
  },
  {
   "cell_type": "code",
   "execution_count": 9,
   "id": "8f3dc62f",
   "metadata": {},
   "outputs": [
    {
     "name": "stdout",
     "output_type": "stream",
     "text": [
      "enter the length of weights list4\n",
      "150\n",
      "155\n",
      "145\n",
      "148\n",
      "the new list of weights  [68.0388555, 70.30681735, 65.77089365, 67.13167076]\n"
     ]
    }
   ],
   "source": [
    "# question 9\n",
    "N=int(input(\"enter the length of weights list\")) # int for converting input to string as inpuit takes default input as string\n",
    "L1=[]\n",
    "for i in range(N):\n",
    "    L1.append(int(input()))\n",
    "for i in range((N)):\n",
    "    L1[i]=L1[i]*0.45359237    # to calculate in lbs multiply with 0.45359237\n",
    "print(\"the new list of weights \",L1)\n",
    "    \n"
   ]
  }
 ],
 "metadata": {
  "kernelspec": {
   "display_name": "Python 3 (ipykernel)",
   "language": "python",
   "name": "python3"
  },
  "language_info": {
   "codemirror_mode": {
    "name": "ipython",
    "version": 3
   },
   "file_extension": ".py",
   "mimetype": "text/x-python",
   "name": "python",
   "nbconvert_exporter": "python",
   "pygments_lexer": "ipython3",
   "version": "3.9.13"
  }
 },
 "nbformat": 4,
 "nbformat_minor": 5
}
